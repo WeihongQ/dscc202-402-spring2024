{
 "cells": [
  {
   "cell_type": "markdown",
   "metadata": {
    "application/vnd.databricks.v1+cell": {
     "cellMetadata": {
      "byteLimit": 2048000,
      "rowLimit": 10000
     },
     "inputWidgets": {},
     "nuid": "fc749083-2211-485c-943f-640e198b2c70",
     "showTitle": false,
     "title": ""
    }
   },
   "source": [
    "## DSCC202-402 Data Science at Scale Final Project\n",
    "### Tracking Tweet sentiment at scale using a pretrained transformer (classifier)\n",
    "<p>Consider the following illustration of the end to end system that you will be building.  Each student should do their own work.  The project will demonstrate your understanding of Spark Streaming, the medalion data architecture using Delta Lake, Spark Inference at Scale using an MLflow packaged model as well as Exploritory Data Analysis and System Tracking and Monitoring.</p>\n",
    "<br><br>\n",
    "<img src=\"https://data-science-at-scale.s3.amazonaws.com/images/pipeline.drawio.png\">\n",
    "\n",
    "<p>\n",
    "You will be pulling an updated copy of the course GitHub repositiory: <a href=\"https://github.com/lpalum/dscc202-402-spring2024\">The Repo</a>.  If you are unclear on how to pull an updated copy using the GitHub command line, the following <a href=\"https://techwritingmatters.com/how-to-update-your-forked-repository-on-github\">document</a> is helpful.  Be sure to add the professors and TAs as collaborators on your project. \n",
    "\n",
    "- lpalum@gmail.com GitHub ID: lpalum\n",
    "- ajay.anand@rochester.edu GitHub ID: ajayan12\n",
    "- divyamunot1999@gmail.com GitHub ID: divyamunot\n",
    "- ylong6@u.Rochester.edu GitHub ID: NinaLong2077\n",
    "\n",
    "Once you have updates your fork of the repository you should see the following template project that is resident in the final_project directory.\n",
    "</p>\n",
    "\n",
    "<img src=\"https://data-science-at-scale.s3.amazonaws.com/images/notebooks.drawio.png\">\n",
    "\n",
    "<p>\n",
    "You can then pull your project into the Databrick Workspace using the <a href=\"https://www.databricks.training/step-by-step/importing-courseware-from-github/index.html\">Repos</a> feature.\n",
    "Each student is expected to submit the URL of their project on GitHub with their code checked in on the main/master branch.  This illustration highlights the branching scheme that you may use to work on your code in steps and then merge your submission into your master branch before submitting.\n",
    "</p>\n",
    "<img src=\"https://data-science-at-scale.s3.amazonaws.com/images/github.drawio.png\">\n",
    "<p>\n",
    "Work your way through this notebook which will give you the steps required to submit a complete and compliant project.  The following illustration and associated data dictionary specifies the transformations and data that you are to generate for each step in the medallion pipeline.\n",
    "</p>\n",
    "<br><br>\n",
    "<img src=\"https://data-science-at-scale.s3.amazonaws.com/images/dataframes.drawio.png\">\n",
    "\n",
    "#### Bronze Data - raw ingest\n",
    "- date - string in the source json\n",
    "- user - string in the source json\n",
    "- text - tweet string in the source json\n",
    "- sentiment - the given sentiment of the text as determined by an unknown model that is provided in the source json\n",
    "- source_file - the path of the source json file the this row of data was read from\n",
    "- processing_time - a timestamp of when you read this row from the source json\n",
    "\n",
    "#### Silver Data - Bronze Preprocessing\n",
    "- timestamp - convert date string in the bronze data to a timestamp\n",
    "- mention - every @username mentioned in the text string in the bronze data gets a row in this silver data table.\n",
    "- cleaned_text - the bronze text data with the mentions (@username) removed.\n",
    "- sentiment - the given sentiment that was associated with the text in the bronze table.\n",
    "\n",
    "#### Gold Data - Silver Table Inference\n",
    "- timestamp - the timestamp from the silver data table rows\n",
    "- mention - the mention from the silver data table rows\n",
    "- cleaned_text - the cleaned_text from the silver data table rows\n",
    "- sentiment - the given sentiment from the silver data table rows\n",
    "- predicted_score - score out of 100 from the Hugging Face Sentiment Transformer\n",
    "- predicted_sentiment - string representation of the sentiment\n",
    "- sentiment_id - 0 for negative and 1 for postive associated with the given sentiment\n",
    "- predicted_sentiment_id - 0 for negative and 1 for positive assocaited with the Hugging Face Sentiment Transformer\n",
    "\n",
    "#### Application Data - Gold Table Aggregation\n",
    "- min_timestamp - the oldest timestamp on a given mention (@username)\n",
    "- max_timestamp - the newest timestamp on a given mention (@username)\n",
    "- mention - the user (@username) that this row pertains to.\n",
    "- negative - total negative tweets directed at this mention (@username)\n",
    "- neutral - total neutral tweets directed at this mention (@username)\n",
    "- positive - total positive tweets directed at this mention (@username)\n",
    "\n",
    "When you are designing your approach, one of the main decisions that you will need to make is how you are going to orchestrate the streaming data processing in your pipeline.  There are several valid approaches.  First, you may choose to start the bronze_stream and let it complete (read and append all of the source data) before preceeding and starting up the silver_stream.  This approach has latency associated with it but it will allow your code to proceed in a linear fashion and process all the data by the end of your notebook execution.  Another potential approach is to start all the streams and have a \"watch\" method to determine when the pipeline has processed sufficient or all of the source data before stopping and displaying results.  Both of these approaches are valid and have different implications on how you will trigger your steams and how you will gate the execution of your pipeline.  Think through how you want to proceed and ask questions if you need guidance. The following references may be helpful:\n",
    "- [Spark Structured Streaming Programming Guide](https://spark.apache.org/docs/latest/structured-streaming-programming-guide.html)\n",
    "- [Databricks Autoloader - Cloudfiles](https://docs.databricks.com/en/ingestion/auto-loader/index.html)\n",
    "\n",
    "### Be sure that your project runs end to end when *Run all* is executued on this notebook! (15 Points out of 60)"
   ]
  },
  {
   "cell_type": "code",
   "execution_count": 0,
   "metadata": {
    "application/vnd.databricks.v1+cell": {
     "cellMetadata": {
      "byteLimit": 2048000,
      "rowLimit": 10000
     },
     "inputWidgets": {},
     "nuid": "0666f6d4-0feb-4591-9e94-1cabd1d1b258",
     "showTitle": false,
     "title": ""
    }
   },
   "outputs": [],
   "source": [
    "!pip install transformers\n",
    "!pip install mlflow"
   ]
  },
  {
   "cell_type": "code",
   "execution_count": 0,
   "metadata": {
    "application/vnd.databricks.v1+cell": {
     "cellMetadata": {
      "byteLimit": 2048000,
      "rowLimit": 10000
     },
     "inputWidgets": {},
     "nuid": "068f25d0-1387-4342-89cf-ce82a8d614ce",
     "showTitle": true,
     "title": "Pull in the Includes & Utiltites"
    }
   },
   "outputs": [],
   "source": [
    "%run ./includes/includes"
   ]
  },
  {
   "cell_type": "code",
   "execution_count": 0,
   "metadata": {
    "application/vnd.databricks.v1+cell": {
     "cellMetadata": {
      "byteLimit": 2048000,
      "rowLimit": 10000
     },
     "inputWidgets": {},
     "nuid": "6512bf1b-50e0-4a4b-84a9-e280a6260b56",
     "showTitle": true,
     "title": "Notebook Control Widgets (maybe helpful)"
    }
   },
   "outputs": [],
   "source": [
    "\"\"\"\n",
    "Adding a widget to the notebook to control the clearing of a previous run.\n",
    "or stopping the active streams using routines defined in the utilities notebook\n",
    "\"\"\"\n",
    "dbutils.widgets.removeAll()\n",
    "\n",
    "dbutils.widgets.dropdown(\"clear_previous_run\", \"No\", [\"No\",\"Yes\"])\n",
    "if (getArgument(\"clear_previous_run\") == \"Yes\"):\n",
    "    clear_previous_run()\n",
    "    print(\"Cleared all previous data.\")\n",
    "\n",
    "dbutils.widgets.dropdown(\"stop_streams\", \"No\", [\"No\",\"Yes\"])\n",
    "if (getArgument(\"stop_streams\") == \"Yes\"):\n",
    "    stop_all_streams()\n",
    "    print(\"Stopped all active streams.\")\n",
    "\n",
    "from delta import *\n",
    "dbutils.widgets.dropdown(\"optimize_tables\", \"No\", [\"No\",\"Yes\"])\n",
    "if (getArgument(\"optimize_tables\") == \"Yes\"):\n",
    "    # Suck up those small files that we have been appending.\n",
    "    DeltaTable.forPath(spark, BRONZE_DELTA).optimize().executeCompaction()\n",
    "    # Suck up those small files that we have been appending.\n",
    "    DeltaTable.forPath(spark, SILVER_DELTA).optimize().executeCompaction()\n",
    "    # Suck up those small files that we have been appending.\n",
    "    DeltaTable.forPath(spark, GOLD_DELTA).optimize().executeCompaction()\n",
    "    print(\"Optimized all of the Delta Tables\")"
   ]
  },
  {
   "cell_type": "markdown",
   "metadata": {
    "application/vnd.databricks.v1+cell": {
     "cellMetadata": {
      "byteLimit": 2048000,
      "rowLimit": 10000
     },
     "inputWidgets": {},
     "nuid": "e8ce7c13-7f8f-4e11-b50c-fdaebbcf3f99",
     "showTitle": false,
     "title": ""
    }
   },
   "source": [
    "## 1.0 Import your libraries here...\n",
    "- Are your shuffle partitions consistent with your cluster and your workload?\n",
    "- Do you have the necessary libraries to perform the required operations in the pipeline/application?"
   ]
  },
  {
   "cell_type": "code",
   "execution_count": 0,
   "metadata": {
    "application/vnd.databricks.v1+cell": {
     "cellMetadata": {
      "byteLimit": 2048000,
      "rowLimit": 10000
     },
     "inputWidgets": {},
     "nuid": "67bafbb7-d34e-4e86-b159-b2e062faa1d0",
     "showTitle": false,
     "title": ""
    }
   },
   "outputs": [],
   "source": [
    "from pyspark.sql.types import StructType, StructField, StringType, TimestampType, IntegerType, FloatType\n",
    "from pyspark.sql import SparkSession\n",
    "from pyspark.sql.functions import input_file_name, current_timestamp, col, count, when, udf, explode, split, when, sum as sql_sum\n",
    "from pyspark.sql.streaming import StreamingQueryListener\n",
    "from pyspark.ml.evaluation import MulticlassClassificationEvaluator\n",
    "from sklearn.metrics import precision_score, recall_score, f1_score, confusion_matrix\n",
    "import seaborn as sns\n",
    "import numpy as np\n",
    "from time import sleep\n",
    "import pandas as pd\n",
    "import matplotlib.pyplot as plt\n",
    "import re\n",
    "from transformers import pipeline\n",
    "import mlflow"
   ]
  },
  {
   "cell_type": "markdown",
   "metadata": {
    "application/vnd.databricks.v1+cell": {
     "cellMetadata": {
      "byteLimit": 2048000,
      "rowLimit": 10000
     },
     "inputWidgets": {},
     "nuid": "2b7624b4-0aa5-46b7-9767-52f462b2c574",
     "showTitle": false,
     "title": ""
    }
   },
   "source": [
    "## 2.0 Use the utility functions to ...\n",
    "- Read the source file directory listing\n",
    "- Count the source files (how many are there?)\n",
    "- print the contents of one of the files"
   ]
  },
  {
   "cell_type": "code",
   "execution_count": 0,
   "metadata": {
    "application/vnd.databricks.v1+cell": {
     "cellMetadata": {
      "byteLimit": 2048000,
      "rowLimit": 10000
     },
     "inputWidgets": {},
     "nuid": "a59749d5-e45d-460f-9be1-33652cda2ea5",
     "showTitle": false,
     "title": ""
    }
   },
   "outputs": [],
   "source": [
    "# Read the source file\n",
    "source_files_df = get_source_listing_df()\n",
    "print(source_files_df)\n",
    "\n",
    "file_content = show_s3_file_contents(\"voc_volume/0.json\")\n",
    "print(file_content.decode('utf-8'))"
   ]
  },
  {
   "cell_type": "markdown",
   "metadata": {
    "application/vnd.databricks.v1+cell": {
     "cellMetadata": {
      "byteLimit": 2048000,
      "rowLimit": 10000
     },
     "inputWidgets": {},
     "nuid": "856d6721-fe77-43ce-8c45-15b0ac2ad5b1",
     "showTitle": false,
     "title": ""
    }
   },
   "source": [
    "According to the result, there are 20,000 json files. The file contains the information about the post date of the tweet, user name, text and the sentiment."
   ]
  },
  {
   "cell_type": "markdown",
   "metadata": {
    "application/vnd.databricks.v1+cell": {
     "cellMetadata": {
      "byteLimit": 2048000,
      "rowLimit": 10000
     },
     "inputWidgets": {},
     "nuid": "1676aed7-527f-4ea7-9d3b-52544e8c1e37",
     "showTitle": false,
     "title": ""
    }
   },
   "source": [
    "## 3.0 Transform the Raw Data to Bronze Data using a stream\n",
    "- define the schema for the raw data\n",
    "- setup a read stream using cloudfiles and the source data format\n",
    "- setup a write stream using cloudfiles to append to the bronze delta table\n",
    "- enforce schema\n",
    "- allow a new schema to be merged into the bronze delta table\n",
    "- Use the defined BRONZE_CHECKPOINT and BRONZE_DELTA paths defines in the includes\n",
    "- name your raw to bronze stream as bronze_stream\n",
    "- transform the raw data to the bronze data using the data definition at the top of the notebook"
   ]
  },
  {
   "cell_type": "code",
   "execution_count": 0,
   "metadata": {
    "application/vnd.databricks.v1+cell": {
     "cellMetadata": {
      "byteLimit": 2048000,
      "rowLimit": 10000
     },
     "inputWidgets": {},
     "nuid": "c4e37574-9885-4908-bf97-609d140a8818",
     "showTitle": false,
     "title": ""
    }
   },
   "outputs": [],
   "source": [
    "# Define the schema\n",
    "schema = StructType([\n",
    "    StructField(\"date\", StringType(), True),\n",
    "    StructField(\"user\", StringType(), True),\n",
    "    StructField(\"text\", StringType(), True),\n",
    "    StructField(\"sentiment\", StringType(), True),\n",
    "    StructField(\"source_file\", StringType(), True),\n",
    "    StructField(\"processing_time\", TimestampType(), True)\n",
    "])\n",
    "\n",
    "# Initialize Spark Session\n",
    "spark = SparkSession.builder.appName(\"JsonToBronze\").getOrCreate()"
   ]
  },
  {
   "cell_type": "code",
   "execution_count": 0,
   "metadata": {
    "application/vnd.databricks.v1+cell": {
     "cellMetadata": {
      "byteLimit": 2048000,
      "rowLimit": 10000
     },
     "inputWidgets": {},
     "nuid": "c585d25e-275f-4666-a50b-979c88e87925",
     "showTitle": false,
     "title": ""
    }
   },
   "outputs": [],
   "source": [
    "# Stop with fewer tweets\n",
    "input_path = \"s3a://voc-75-databricks-data/voc_volume/\"\n",
    "\n",
    "# Initialize Spark Session with Delta Lake\n",
    "spark = SparkSession.builder \\\n",
    "    .appName(\"CloudFilesToDelta\") \\\n",
    "    .config(\"spark.delta.logStore.class\", \"org.apache.spark.sql.delta.storage.S3SingleDriverLogStore\") \\\n",
    "    .config(\"spark.sql.extensions\", \"io.delta.sql.DeltaSparkSessionExtension\") \\\n",
    "    .config(\"spark.sql.catalog.spark_catalog\", \"org.apache.spark.sql.delta.catalog.DeltaCatalog\") \\\n",
    "    .getOrCreate()\n",
    "\n",
    "# the Read Stream\n",
    "df = spark.readStream \\\n",
    "    .format(\"cloudFiles\") \\\n",
    "    .schema(schema) \\\n",
    "    .option(\"cloudFiles.format\", \"json\") \\\n",
    "    .load(input_path) \\\n",
    "    .withColumn(\"source_file\", input_file_name()) \\\n",
    "    .withColumn(\"processing_time\", current_timestamp())\n",
    "\n",
    "\n",
    "def check_tweet_count_bronze(streaming_query, threshold=100):\n",
    "    while streaming_query.isActive:\n",
    "        # Load the Delta table to check the current count\n",
    "        tweet_count = spark.read.format(\"delta\").load(BRONZE_DELTA).count()\n",
    "        print(f\"Current tweet count: {tweet_count}\")\n",
    "        if tweet_count >= threshold:\n",
    "            print(f\"Threshold reached: {tweet_count} tweets. Stopping the stream.\")\n",
    "            streaming_query.stop()\n",
    "            break\n",
    "        time.sleep(10)  # Check every 10 seconds\n",
    "\n",
    "# the write stream if more than 100 tweets\n",
    "streaming_query = df.writeStream \\\n",
    "    .format(\"delta\") \\\n",
    "    .option(\"checkpointLocation\", BRONZE_CHECKPOINT) \\\n",
    "    .outputMode(\"append\") \\\n",
    "    .queryName(\"bronze_stream\") \\\n",
    "    .start(BRONZE_DELTA)\n",
    "\n",
    "# Monitor and potentially stop the stream\n",
    "check_tweet_count_bronze(streaming_query)"
   ]
  },
  {
   "cell_type": "markdown",
   "metadata": {
    "application/vnd.databricks.v1+cell": {
     "cellMetadata": {
      "byteLimit": 2048000,
      "rowLimit": 10000
     },
     "inputWidgets": {},
     "nuid": "9bc3e824-d218-43e5-a43b-4c6dbe31950d",
     "showTitle": false,
     "title": ""
    }
   },
   "source": [
    "## 4.0 Bronze Data Exploratory Data Analysis\n",
    "- How many tweets are captured in your Bronze Table?\n",
    "- Are there any columns that contain Nan or Null values?  If so how many and what will you do in your silver transforms to address this?\n",
    "- Count the number of tweets by each unique user handle and sort the data by descending count.\n",
    "- How many tweets have at least one mention (@) how many tweet have no mentions (@)\n",
    "- Plot a bar chart that shows the top 20 tweeters (users)\n"
   ]
  },
  {
   "cell_type": "code",
   "execution_count": 0,
   "metadata": {
    "application/vnd.databricks.v1+cell": {
     "cellMetadata": {
      "byteLimit": 2048000,
      "rowLimit": 10000
     },
     "inputWidgets": {},
     "nuid": "091ec59c-d968-4acf-b56f-cc9178cd0693",
     "showTitle": false,
     "title": ""
    }
   },
   "outputs": [],
   "source": [
    "# Load the Delta table\n",
    "bronze_df = spark.read.format(\"delta\").load(BRONZE_DELTA)\n",
    "\n",
    "# Count the number of tweets\n",
    "tweet_count = bronze_df.count()\n",
    "\n",
    "# Check the missing values\n",
    "missing_values_count = bronze_df.select([count(when(col(c).isNull(), c)).alias(c) for c in bronze_df.columns])\n",
    "\n",
    "missing_values_count.show()\n",
    "\n",
    "\n",
    "print(f\"Number of tweets captured: {tweet_count}\")\n",
    "\n",
    "print(\"Number of missing values:\", missing_values_count)"
   ]
  },
  {
   "cell_type": "code",
   "execution_count": 0,
   "metadata": {
    "application/vnd.databricks.v1+cell": {
     "cellMetadata": {
      "byteLimit": 2048000,
      "rowLimit": 10000
     },
     "inputWidgets": {},
     "nuid": "5aa0860f-4b29-437c-bed1-1ce0565037ef",
     "showTitle": false,
     "title": ""
    }
   },
   "outputs": [],
   "source": [
    "# Count the number of tweets by each unique user\n",
    "tweet_counts = bronze_df.groupBy(\"user\").agg(count(\"text\").alias(\"tweet_count\"))\n",
    "\n",
    "# Sort the results by tweet_count in descending order\n",
    "sorted_tweet_counts = tweet_counts.orderBy(col(\"tweet_count\").desc())\n",
    "\n",
    "# To show the top 20 users by tweet count\n",
    "sorted_tweet_counts.show()"
   ]
  },
  {
   "cell_type": "code",
   "execution_count": 0,
   "metadata": {
    "application/vnd.databricks.v1+cell": {
     "cellMetadata": {
      "byteLimit": 2048000,
      "rowLimit": 10000
     },
     "inputWidgets": {},
     "nuid": "38837031-4165-4e7b-92ce-8b177b107afe",
     "showTitle": false,
     "title": ""
    }
   },
   "outputs": [],
   "source": [
    "# Count tweets that contain at least one '@' mention\n",
    "tweets_with_mentions = bronze_df.filter(col(\"text\").contains(\"@\")).count()\n",
    "\n",
    "# Count tweets that do not contain any '@' mention\n",
    "tweets_without_mentions = bronze_df.filter(~col(\"text\").contains(\"@\")).count()\n",
    "\n",
    "print(f\"Number of tweets with at least one mention: {tweets_with_mentions}\")\n",
    "print(f\"Number of tweets with no mentions: {tweets_without_mentions}\")"
   ]
  },
  {
   "cell_type": "code",
   "execution_count": 0,
   "metadata": {
    "application/vnd.databricks.v1+cell": {
     "cellMetadata": {
      "byteLimit": 2048000,
      "rowLimit": 10000
     },
     "inputWidgets": {},
     "nuid": "e44af166-605f-4566-8e4f-08ff523e928a",
     "showTitle": false,
     "title": ""
    }
   },
   "outputs": [],
   "source": [
    "# Plot the bar chart\n",
    "# Retrieve top 20 tweeters\n",
    "top_tweeters = sorted_tweet_counts.limit(20)\n",
    "\n",
    "top_tweeters_data = top_tweeters.collect()\n",
    "\n",
    "# Extract user handles and tweet counts\n",
    "users = [row['user'] for row in top_tweeters_data]\n",
    "tweet_counts = [row['tweet_count'] for row in top_tweeters_data]\n",
    "\n",
    "# Create a bar chart\n",
    "plt.figure(figsize=(10, 8))\n",
    "plt.bar(users, tweet_counts)\n",
    "plt.xlabel('Users')\n",
    "plt.ylabel('Number of Tweets')\n",
    "plt.title('Top 20 Tweeters')\n",
    "plt.xticks(rotation=45, ha='right')\n",
    "plt.tight_layout() \n",
    "\n",
    "# Display the plot\n",
    "plt.show()"
   ]
  },
  {
   "cell_type": "markdown",
   "metadata": {
    "application/vnd.databricks.v1+cell": {
     "cellMetadata": {
      "byteLimit": 2048000,
      "rowLimit": 10000
     },
     "inputWidgets": {},
     "nuid": "38c290b9-a42a-4551-857b-3f461b8a1be6",
     "showTitle": false,
     "title": ""
    }
   },
   "source": [
    "## 5.0 Transform the Bronze Data to Silver Data using a stream\n",
    "- setup a read stream on your bronze delta table\n",
    "- setup a write stream to append to the silver delta table\n",
    "- Use the defined SILVER_CHECKPOINT and SILVER_DELTA paths in the includes\n",
    "- name your bronze to silver stream as silver_stream\n",
    "- transform the bronze data to the silver data using the data definition at the top of the notebook"
   ]
  },
  {
   "cell_type": "code",
   "execution_count": 0,
   "metadata": {
    "application/vnd.databricks.v1+cell": {
     "cellMetadata": {
      "byteLimit": 2048000,
      "rowLimit": 10000
     },
     "inputWidgets": {},
     "nuid": "65b029cb-ba45-4625-a9c1-d0d410a4962b",
     "showTitle": false,
     "title": ""
    }
   },
   "outputs": [],
   "source": [
    "# Silver builder\n",
    "spark = SparkSession.builder \\\n",
    "    .appName(\"silver_stream\") \\\n",
    "    .getOrCreate()\n",
    "\n",
    "# Load the Bronze Delta table as a stream\n",
    "bronze_df = spark.readStream \\\n",
    "    .format(\"delta\") \\\n",
    "    .load(BRONZE_DELTA)"
   ]
  },
  {
   "cell_type": "code",
   "execution_count": 0,
   "metadata": {
    "application/vnd.databricks.v1+cell": {
     "cellMetadata": {
      "byteLimit": 2048000,
      "rowLimit": 10000
     },
     "inputWidgets": {},
     "nuid": "2179220a-62de-4c7a-8c6a-ad5dfdf24dc2",
     "showTitle": false,
     "title": ""
    }
   },
   "outputs": [],
   "source": [
    "def find_mentions(text):\n",
    "    return re.findall(r'@\\w+', text)\n",
    "\n",
    "def remove_mentions(text):\n",
    "    return re.sub(r'@\\w+', '', text)\n",
    "\n",
    "find_mentions_udf = udf(find_mentions, StringType())\n",
    "remove_mentions_udf = udf(remove_mentions, StringType())\n",
    "\n",
    "# Apply transformations\n",
    "silver_df = bronze_df \\\n",
    "    .withColumn(\"timestamp\", col(\"date\").cast(TimestampType())) \\\n",
    "    .withColumn(\"text\", col(\"text\").cast(StringType())) \\\n",
    "    .withColumn(\"mentions\", find_mentions_udf(col(\"text\"))) \\\n",
    "    .withColumn(\"cleaned_text\", remove_mentions_udf(col(\"text\")))\n",
    "\n",
    "# Split the mentions string into an array of strings\n",
    "silver_df = silver_df.withColumn(\"mentions_array\", split(col(\"mentions\"), \",\"))\n",
    "\n",
    "# Explode mentions_array into separate rows\n",
    "silver_exploded_df = silver_df.withColumn(\"mention\", explode(col(\"mentions_array\")))"
   ]
  },
  {
   "cell_type": "code",
   "execution_count": 0,
   "metadata": {
    "application/vnd.databricks.v1+cell": {
     "cellMetadata": {
      "byteLimit": 2048000,
      "rowLimit": 10000
     },
     "inputWidgets": {},
     "nuid": "4bb78da6-b183-4497-8303-bce0e65fa845",
     "showTitle": false,
     "title": ""
    }
   },
   "outputs": [],
   "source": [
    "# Silver stream write\n",
    "silver_query = silver_exploded_df.writeStream \\\n",
    "    .format(\"delta\") \\\n",
    "    .outputMode(\"append\") \\\n",
    "    .option(\"checkpointLocation\", SILVER_CHECKPOINT) \\\n",
    "    .start(SILVER_DELTA)\n",
    "try:\n",
    "    silver_query.processAllAvailable()\n",
    "finally:\n",
    "    # Stop the stream\n",
    "    silver_query.stop()"
   ]
  },
  {
   "cell_type": "markdown",
   "metadata": {
    "application/vnd.databricks.v1+cell": {
     "cellMetadata": {
      "byteLimit": 2048000,
      "rowLimit": 10000
     },
     "inputWidgets": {},
     "nuid": "9ee38aba-e340-4766-8339-71ef2ecfde3a",
     "showTitle": false,
     "title": ""
    }
   },
   "source": [
    "## 6.0 Transform the Silver Data to Gold Data using a stream\n",
    "- setup a read stream on your silver delta table\n",
    "- setup a write stream to append to the gold delta table\n",
    "- Use the defined GOLD_CHECKPOINT and GOLD_DELTA paths defines in the includes\n",
    "- name your silver to gold stream as gold_stream\n",
    "- transform the silver data to the gold data using the data definition at the top of the notebook\n",
    "- Load the pretrained transformer sentiment classifier from the MODEL_NAME at the production level from the MLflow registry\n",
    "- Use a spark UDF to parallelize the inference across your silver data"
   ]
  },
  {
   "cell_type": "code",
   "execution_count": 0,
   "metadata": {
    "application/vnd.databricks.v1+cell": {
     "cellMetadata": {
      "byteLimit": 2048000,
      "rowLimit": 10000
     },
     "inputWidgets": {},
     "nuid": "31e8949d-c016-44a7-9f03-65f471dfd22d",
     "showTitle": false,
     "title": ""
    }
   },
   "outputs": [],
   "source": [
    "silver_df = spark.readStream \\\n",
    "    .format(\"delta\") \\\n",
    "    .load(SILVER_DELTA)\n"
   ]
  },
  {
   "cell_type": "code",
   "execution_count": 0,
   "metadata": {
    "application/vnd.databricks.v1+cell": {
     "cellMetadata": {
      "byteLimit": 2048000,
      "rowLimit": 10000
     },
     "inputWidgets": {},
     "nuid": "15a77bac-d7da-42e6-b65a-8dbff508649e",
     "showTitle": false,
     "title": ""
    }
   },
   "outputs": [],
   "source": [
    "# Load the HF model\n",
    "sentiment_analysis = pipeline(\"sentiment-analysis\", model=HF_MODEL_NAME)\n",
    "\n",
    "# UDF to get sentiment score and label\n",
    "@udf(returnType=FloatType())\n",
    "def get_sentiment_score(text):\n",
    "    return sentiment_analysis(text)[0]['score']\n",
    "\n",
    "@udf(returnType=StringType())\n",
    "def get_sentiment_label(text):\n",
    "    return sentiment_analysis(text)[0]['label']\n",
    "\n",
    "@udf(returnType=IntegerType())\n",
    "def get_sentiment_id(sentiment):\n",
    "    return 0 if sentiment == 'negative' else 1\n",
    "\n",
    "# Apply sentiment analysis on the cleaned_text\n",
    "gold_df_0 = silver_df \\\n",
    "    .withColumn(\"predicted_score\", get_sentiment_score(col(\"cleaned_text\"))) \\\n",
    "    .withColumn(\"predicted_sentiment\", get_sentiment_label(col(\"cleaned_text\"))) \\\n",
    "    .withColumn(\"predicted_sentiment_id\", get_sentiment_id(col(\"predicted_sentiment\"))) \\\n",
    "    .withColumn(\"sentiment_id\", get_sentiment_id(col(\"sentiment\")))"
   ]
  },
  {
   "cell_type": "code",
   "execution_count": 0,
   "metadata": {
    "application/vnd.databricks.v1+cell": {
     "cellMetadata": {
      "byteLimit": 2048000,
      "rowLimit": 10000
     },
     "inputWidgets": {},
     "nuid": "a304c0e6-25e8-4001-a99c-8301e7fc5c7e",
     "showTitle": false,
     "title": ""
    }
   },
   "outputs": [],
   "source": [
    "# Write gold stream\n",
    "spark = SparkSession.builder \\\n",
    "    .appName(\"gold_stream\") \\\n",
    "    .getOrCreate()\n",
    "\n",
    "def check_tweet_count_gold(streaming_query, threshold=100):\n",
    "    while streaming_query.isActive:\n",
    "        # Load the Delta table to check the current count\n",
    "        tweet_count = spark.read.format(\"delta\").load(GOLD_DELTA).count()\n",
    "        print(f\"Current tweet count: {tweet_count}\")\n",
    "        if tweet_count >= threshold:\n",
    "            print(f\"Threshold reached: {tweet_count} tweets. Stopping the stream.\")\n",
    "            streaming_query.stop()\n",
    "            break\n",
    "        time.sleep(10) \n",
    "\n",
    "gold_query = gold_df_0.writeStream \\\n",
    "    .format(\"delta\") \\\n",
    "    .outputMode(\"append\") \\\n",
    "    .option(\"checkpointLocation\", GOLD_CHECKPOINT) \\\n",
    "    .option(\"mergeSchema\", \"true\") \\\n",
    "    .start(GOLD_DELTA)\n",
    "\n",
    "check_tweet_count_gold(gold_query)\n"
   ]
  },
  {
   "cell_type": "markdown",
   "metadata": {
    "application/vnd.databricks.v1+cell": {
     "cellMetadata": {
      "byteLimit": 2048000,
      "rowLimit": 10000
     },
     "inputWidgets": {},
     "nuid": "0494d8b4-5a55-47fc-af12-47325f34a303",
     "showTitle": false,
     "title": ""
    }
   },
   "source": [
    "## 7.0 Capture the accuracy metrics from the gold table in MLflow\n",
    "Store the following in an MLflow experiment run:\n",
    "- Store the precision, recall, and F1-score as MLflow metrics\n",
    "- Store an image of the confusion matrix as an MLflow artifact\n",
    "- Store the mdoel name and the MLflow version that was used as an MLflow parameters\n",
    "- Store the version of the Delta Table (input-silver) as an MLflow parameter"
   ]
  },
  {
   "cell_type": "code",
   "execution_count": 0,
   "metadata": {
    "application/vnd.databricks.v1+cell": {
     "cellMetadata": {
      "byteLimit": 2048000,
      "rowLimit": 10000
     },
     "inputWidgets": {},
     "nuid": "3bb174ad-67e4-4b0a-be36-ff20a760ee8b",
     "showTitle": false,
     "title": ""
    }
   },
   "outputs": [],
   "source": [
    "# Set up the MLflow\n",
    "mlflow.set_tracking_uri(\"uri_to_your_mlflow_server\") \n",
    "mlflow.set_experiment(\"Twitter_Sentiment_Analysis\")"
   ]
  },
  {
   "cell_type": "code",
   "execution_count": 0,
   "metadata": {
    "application/vnd.databricks.v1+cell": {
     "cellMetadata": {
      "byteLimit": 2048000,
      "rowLimit": 10000
     },
     "inputWidgets": {},
     "nuid": "ea7b1f88-df3a-41a4-ad2b-a72c5cdfba5b",
     "showTitle": false,
     "title": ""
    }
   },
   "outputs": [],
   "source": [
    "spark = SparkSession.builder \\\n",
    "    .appName(\"MLMetrics\") \\\n",
    "    .getOrCreate()\n",
    "\n",
    "gold_df = spark.readStream \\\n",
    "        .format(\"delta\") \\\n",
    "        .load(\"/tmp/labuser104917-2387441/gold.delta\")"
   ]
  },
  {
   "cell_type": "code",
   "execution_count": 0,
   "metadata": {
    "application/vnd.databricks.v1+cell": {
     "cellMetadata": {
      "byteLimit": 2048000,
      "rowLimit": 10000
     },
     "inputWidgets": {},
     "nuid": "feb847f5-a288-4318-9b34-4b3ec90fa784",
     "showTitle": false,
     "title": ""
    }
   },
   "outputs": [],
   "source": [
    "# Start an MLflow run\n",
    "mlflow.end_run()\n",
    "mlflow.start_run()\n",
    "\n",
    "# model details and Delta Table version\n",
    "model_name = \"Sentiment Analysis Model\"\n",
    "mlflow_version = mlflow.__version__\n",
    "# delta_table_version = spark.read.format(\"delta\").option(\"versionAsOf\", 0).load(\"/tmp/labuser104917-3007326/gold.delta\").version()\n",
    "\n",
    "# Log MLflow parameters\n",
    "mlflow.log_param(\"model_name\", model_name)\n",
    "mlflow.log_param(\"mlflow_version\", mlflow_version)\n",
    "# mlflow.log_param(\"delta_table_version\", delta_table_version)\n",
    "\n",
    "batch_count = 0  # Counter for the number of batches processed\n",
    "\n",
    "def foreach_batch_function(df, epoch_id):\n",
    "    global batch_count\n",
    "    batch_count += 1\n",
    "\n",
    "    if df.count() > 0:\n",
    "        # Convert to Pandas DataFrame for sklearn operations\n",
    "        pandas_df = df.select(\"predicted_sentiment_id\", \"sentiment_id\").toPandas()\n",
    "\n",
    "        # Generate and plot the confusion matrix\n",
    "        cm = confusion_matrix(pandas_df['sentiment_id'], pandas_df['predicted_sentiment_id'])\n",
    "        plt.figure(figsize=(10, 7))\n",
    "        sns.heatmap(cm, annot=True, fmt='g')\n",
    "        plt.xlabel('Predicted')\n",
    "        plt.ylabel('Actual')\n",
    "        plt.title('Confusion Matrix')\n",
    "        image_path = f\"/tmp/confusion_matrix_{epoch_id}.png\"\n",
    "        plt.savefig(image_path)\n",
    "        plt.close()\n",
    "\n",
    "        # Log the confusion matrix as an MLflow artifact\n",
    "        mlflow.log_artifact(image_path)\n",
    "        \n",
    "        # Convert predicted_sentiment_id column to DoubleType\n",
    "        df = df.withColumn(\"predicted_sentiment_id\", df[\"predicted_sentiment_id\"].cast(\"double\"))\n",
    "        \n",
    "        # Calculate metrics using Spark's evaluator\n",
    "        evaluator = MulticlassClassificationEvaluator(\n",
    "            labelCol='sentiment_id', \n",
    "            predictionCol='predicted_sentiment_id')\n",
    "        precision = evaluator.evaluate(df, {evaluator.metricName: \"precisionByLabel\"})\n",
    "        recall = evaluator.evaluate(df, {evaluator.metricName: \"recallByLabel\"})\n",
    "        f1_score = evaluator.evaluate(df, {evaluator.metricName: \"f1\"})\n",
    "\n",
    "        # Log metrics to MLflow\n",
    "        mlflow.log_metric(\"precision\", precision, step=epoch_id)\n",
    "        mlflow.log_metric(\"recall\", recall, step=epoch_id)\n",
    "        mlflow.log_metric(\"f1_score\", f1_score, step=epoch_id)\n",
    "\n",
    "        # Print metrics to console for debugging\n",
    "        print(f\"Batch {epoch_id}: Precision = {precision}, Recall = {recall}, F1 Score = {f1_score}\")\n",
    "\n",
    "    # Stop the query after processing a batch\n",
    "    if batch_count >= 0:  \n",
    "        print(f\"Processed {batch_count} batches, stopping the stream.\")\n",
    "        query.stop()\n",
    "\n",
    "# Define the streaming query with the foreachBatch sink\n",
    "query = gold_df.writeStream \\\n",
    "    .foreachBatch(foreach_batch_function) \\\n",
    "    .outputMode(\"update\") \\\n",
    "    .start()\n",
    "\n",
    "query.awaitTermination()\n",
    "\n",
    "# End the MLflow run when the stream stops\n",
    "mlflow.end_run()\n"
   ]
  },
  {
   "cell_type": "markdown",
   "metadata": {
    "application/vnd.databricks.v1+cell": {
     "cellMetadata": {
      "byteLimit": 2048000,
      "rowLimit": 10000
     },
     "inputWidgets": {},
     "nuid": "81e0e2de-b872-4698-81cc-1669646c2183",
     "showTitle": false,
     "title": ""
    }
   },
   "source": [
    "## 8.0 Application Data Processing and Visualization\n",
    "- How many mentions are there in the gold data total?\n",
    "- Count the number of neutral, positive and negative tweets for each mention in new columns\n",
    "- Capture the total for each mention in a new column\n",
    "- Sort the mention count totals in descending order\n",
    "- Plot a bar chart of the top 20 mentions with positive sentiment (the people who are in favor)\n",
    "- Plot a bar chart of the top 20 mentions with negative sentiment (the people who are the vilians)\n",
    "\n",
    "You may want to use the \"Loop Application\" widget to control whether you repeateded display the latest plots while the data comes in from your streams before moving on to the next section and cleaning up your run.\n",
    "\n",
    "*note: A mention is a specific twitter user that has been \"mentioned\" in a tweet with an @user reference."
   ]
  },
  {
   "cell_type": "code",
   "execution_count": 0,
   "metadata": {
    "application/vnd.databricks.v1+cell": {
     "cellMetadata": {
      "byteLimit": 2048000,
      "rowLimit": 10000
     },
     "inputWidgets": {},
     "nuid": "8250667b-eaa5-48a1-90c7-bfe11e666e32",
     "showTitle": false,
     "title": ""
    }
   },
   "outputs": [],
   "source": [
    "gold_df = spark.readStream \\\n",
    "        .format(\"delta\") \\\n",
    "        .load(\"/tmp/labuser104917-2387441/gold.delta\")"
   ]
  },
  {
   "cell_type": "code",
   "execution_count": 0,
   "metadata": {
    "application/vnd.databricks.v1+cell": {
     "cellMetadata": {
      "byteLimit": 2048000,
      "rowLimit": 10000
     },
     "inputWidgets": {},
     "nuid": "906819c5-33c2-4466-8ecf-ad04f403b42a",
     "showTitle": false,
     "title": ""
    }
   },
   "outputs": [],
   "source": [
    "# Define the aggregation expressions for each sentiment type\n",
    "sentiment_counts = gold_df.withColumn(\"positive\", (col(\"sentiment\") == \"positive\").cast(\"integer\")) \\\n",
    "                          .withColumn(\"neutral\", (col(\"sentiment\") == \"neutral\").cast(\"integer\")) \\\n",
    "                          .withColumn(\"negative\", (col(\"sentiment\") == \"negative\").cast(\"integer\")) \\\n",
    "                          .groupBy(\"mention\") \\\n",
    "                          .agg(\n",
    "                              sql_sum(\"positive\").alias(\"positive_count\"),\n",
    "                              sql_sum(\"neutral\").alias(\"neutral_count\"),\n",
    "                              sql_sum(\"negative\").alias(\"negative_count\"),\n",
    "                              (sql_sum(\"positive\") + sql_sum(\"neutral\") + sql_sum(\"negative\")).alias(\"total_mentions\")\n",
    "                          ) \\\n",
    "                          .orderBy(col(\"total_mentions\").desc())  # Sorting by total_mentions in descending order\n",
    "\n",
    "# Print the schema to understand what the DataFrame looks like\n",
    "sentiment_counts.printSchema()"
   ]
  },
  {
   "cell_type": "code",
   "execution_count": 0,
   "metadata": {
    "application/vnd.databricks.v1+cell": {
     "cellMetadata": {
      "byteLimit": 2048000,
      "rowLimit": 10000
     },
     "inputWidgets": {},
     "nuid": "9711c46c-65f9-4e22-a2ec-b86d3eaecac9",
     "showTitle": false,
     "title": ""
    }
   },
   "outputs": [],
   "source": [
    "query = sentiment_counts.writeStream \\\n",
    "    .queryName(\"aggregated_sentiments\") \\\n",
    "    .outputMode(\"complete\") \\\n",
    "    .format(\"memory\") \\\n",
    "    .start()\n",
    "\n",
    "try:\n",
    "    # Process available data before plotting\n",
    "    query.processAllAvailable()\n",
    "\n",
    "    # Function to fetch data and plot for specified sentiment\n",
    "    def plot_sentiment_mentions(sentiment_type):\n",
    "        column = f\"{sentiment_type}_count\"\n",
    "        result_df = spark.sql(f\"\"\"\n",
    "            SELECT mention, {column}\n",
    "            FROM aggregated_sentiments\n",
    "            ORDER BY {column} DESC\n",
    "            LIMIT 20\n",
    "        \"\"\").toPandas()\n",
    "\n",
    "        plt.figure(figsize=(10, 8))\n",
    "        plt.barh(result_df['mention'], result_df[column], color='salmon' if sentiment_type == 'negative' else 'lightblue')\n",
    "        plt.xlabel(f'Count of {sentiment_type.capitalize()} Mentions')\n",
    "        plt.ylabel('Mention')\n",
    "        plt.title(f'Top 20 Mentions by {sentiment_type.capitalize()} Sentiment')\n",
    "        plt.gca().invert_yaxis()  # Invert the y-axis so the largest is on top\n",
    "        plt.show()\n",
    "\n",
    "    # Plotting positive and negative sentiments\n",
    "    plot_sentiment_mentions('positive')\n",
    "    plot_sentiment_mentions('negative')\n",
    "\n",
    "finally:\n",
    "    # Stop the stream\n",
    "    query.stop()\n"
   ]
  },
  {
   "cell_type": "markdown",
   "metadata": {
    "application/vnd.databricks.v1+cell": {
     "cellMetadata": {
      "byteLimit": 2048000,
      "rowLimit": 10000
     },
     "inputWidgets": {},
     "nuid": "5d5add3f-0c13-4d81-86d8-12cf3cfdd2c8",
     "showTitle": false,
     "title": ""
    }
   },
   "source": [
    "## 9.0 Clean up and completion of your pipeline\n",
    "- using the utilities what streams are running? If any.\n",
    "- Stop all active streams\n",
    "- print out the elapsed time of your notebook."
   ]
  },
  {
   "cell_type": "code",
   "execution_count": 0,
   "metadata": {
    "application/vnd.databricks.v1+cell": {
     "cellMetadata": {
      "byteLimit": 2048000,
      "rowLimit": 10000
     },
     "inputWidgets": {},
     "nuid": "fc94f110-4c44-4a60-a10a-1665670c3ea7",
     "showTitle": false,
     "title": ""
    }
   },
   "outputs": [],
   "source": [
    "spark = SparkSession.builder.appName(\"StreamMonitoring\").getOrCreate()\n",
    "\n",
    "active_streams = spark.streams.active\n",
    "\n",
    "# Print details about each stream\n",
    "for stream in active_streams:\n",
    "    print(f\"Stream Name: {stream.name}\")\n",
    "    print(f\"Stream ID: {stream.id}\")\n",
    "    print(f\"Stream Run ID: {stream.runId}\")\n",
    "    print(f\"Is Stream Active: {stream.isActive}\")\n",
    "    print(\"-\" * 40)"
   ]
  },
  {
   "cell_type": "code",
   "execution_count": 0,
   "metadata": {
    "application/vnd.databricks.v1+cell": {
     "cellMetadata": {
      "byteLimit": 2048000,
      "rowLimit": 10000
     },
     "inputWidgets": {},
     "nuid": "0304e685-c26e-447d-b230-c37266f30003",
     "showTitle": false,
     "title": ""
    }
   },
   "outputs": [],
   "source": [
    "for stream in spark.streams.active:\n",
    "    stream.stop()\n",
    "\n",
    "dbutils.fs.rm(BRONZE_CHECKPOINT, recurse=True)\n",
    "dbutils.fs.rm(SILVER_CHECKPOINT, recurse=True)\n",
    "dbutils.fs.rm(GOLD_CHECKPOINT, recurse=True)"
   ]
  },
  {
   "cell_type": "code",
   "execution_count": 0,
   "metadata": {
    "application/vnd.databricks.v1+cell": {
     "cellMetadata": {
      "byteLimit": 2048000,
      "rowLimit": 10000
     },
     "inputWidgets": {},
     "nuid": "ea759fc8-1d78-4d6d-b571-e2e256448b76",
     "showTitle": false,
     "title": ""
    }
   },
   "outputs": [],
   "source": [
    "# Get the notebooks ending time note START_TIME was established in the include file when the notebook started.\n",
    "END_TIME = time.time()\n",
    "print(END_TIME)"
   ]
  },
  {
   "cell_type": "markdown",
   "metadata": {
    "application/vnd.databricks.v1+cell": {
     "cellMetadata": {
      "byteLimit": 2048000,
      "rowLimit": 10000
     },
     "inputWidgets": {},
     "nuid": "b88fc0e5-f50c-4ed1-9480-16a4c8a44b30",
     "showTitle": false,
     "title": ""
    }
   },
   "source": [
    "## 10.0 How Optimized is your Spark Application (Grad Students Only)\n",
    "Graduate students (registered for the DSCC-402 section of the course) are required to do this section.  This is a written analysis using the Spark UI (link to screen shots) that support your analysis of your pipelines execution and what is driving its performance.\n",
    "Recall that Spark Optimization has 5 significant dimensions of considertation:\n",
    "- Spill: write to executor disk due to lack of memory\n",
    "- Skew: imbalance in partition size\n",
    "- Shuffle: network io moving data between executors (wide transforms)\n",
    "- Storage: inefficiency due to disk storage format (small files, location)\n",
    "- Serialization: distribution of code segments across the cluster\n",
    "\n",
    "Comment on each of the dimentions of performance and how your impelementation is or is not being affected.  Use specific information in the Spark UI to support your description.  \n",
    "\n",
    "Note: you can take sreenshots of the Spark UI from your project runs in databricks and then link to those pictures by storing them as a publicly accessible file on your cloud drive (google, one drive, etc.)\n",
    "\n",
    "References:\n",
    "- [Spark UI Reference Reference](https://spark.apache.org/docs/latest/web-ui.html#web-ui)\n",
    "- [Spark UI Simulator](https://www.databricks.training/spark-ui-simulator/index.html)"
   ]
  },
  {
   "cell_type": "markdown",
   "metadata": {
    "application/vnd.databricks.v1+cell": {
     "cellMetadata": {
      "byteLimit": 2048000,
      "rowLimit": 10000
     },
     "inputWidgets": {},
     "nuid": "a0a5707d-a5ca-4e87-9e74-3b13d00337b0",
     "showTitle": false,
     "title": ""
    }
   },
   "source": [
    "To build and evaluate the pipeline for this project, I primarily use a partial dataset. Specifically, the dataset comprises 133,118 tweets that are processed through the Spark structured streaming pipeline. The answers to the question are derived from data displayed in the Spark UI, which are based on this partial dataset. Additionally, I speculate on potential issues that may arise when the pipeline is executed on the full dataset.\n",
    "\n",
    "### Spill\n",
    "This figure shows the memory usage when running the EDA with Bronze data:\n",
    "https://drive.google.com/file/d/1xQH-rEKlDBFLFS7NNOM8xbra-K9qwITi/view?usp=sharing\n",
    "\n",
    "According to the figure, the memory usage is 1.7 MiB out of 21.1 GiB, suggesting that there is sufficient memory available to prevent spilling. However, when processing the full dataset or implementing more complex algorithms, there is a higher likelihood of experiencing memory spill. \n",
    "\n",
    "### Skew\n",
    "According to the figures shown in the Session 8.0, the sentiments distribution is imbalanced in the dataset. Solutions to the potential skews include salting keys or increase the number of partitions.\n",
    "\n",
    "### Shuffle\n",
    "When using the \"groupBy\" command in the pipeline, but it can also be resource intensive and time consuming. For handling the full dataset, consider using narrow transformations, which are typically more efficient.\n",
    "\n",
    "### Storage\n",
    "The usage of storage from the spark UI is shown in the figure:\n",
    "https://drive.google.com/file/d/14grQhoeebqmedRMByji5sZh-mV2Aym1D/view?usp=sharing\n",
    "\n",
    "It shows that the disk usage is 36.9 MiB out of 463.9 GiB. There is enough storage space with the current partial data. If using the full dataset, we could expand the cluster storage or restrict the cache to the data that will only be used repeatedly.\n",
    "\n",
    "### Serialization\n",
    "The issue may arise because serialization can be computationally demanding. With partial data, serialization typically does not cause computational problems. However, if issues occur when using the full dataset, we could attempt to minimize transformations by reducing the amount of data that needs to be shuffled."
   ]
  }
 ],
 "metadata": {
  "application/vnd.databricks.v1+notebook": {
   "dashboards": [],
   "language": "python",
   "notebookMetadata": {
    "mostRecentlyExecutedCommandWithImplicitDF": {
     "commandId": -1,
     "dataframes": [
      "_sqldf"
     ]
    },
    "pythonIndentUnit": 4,
    "widgetLayout": [
     {
      "breakBefore": false,
      "name": "clear_previous_run",
      "width": 203
     },
     {
      "breakBefore": false,
      "name": "stop_streams",
      "width": 203
     }
    ]
   },
   "notebookName": "Starter Streaming Tweet Sentiment - Spring 2024 Final Project",
   "widgets": {
    "clear_previous_run": {
     "currentValue": "No",
     "nuid": "11b43403-c70f-41ef-ab0e-41172583baaa",
     "typedWidgetInfo": null,
     "widgetInfo": {
      "widgetType": "dropdown",
      "defaultValue": "No",
      "label": null,
      "name": "clear_previous_run",
      "options": {
       "widgetType": "dropdown",
       "autoCreated": null,
       "choices": [
        "No",
        "Yes"
       ]
      }
     }
    },
    "optimize_tables": {
     "currentValue": "No",
     "nuid": "d27f2950-3146-4010-8bc6-58c47a93e7a9",
     "typedWidgetInfo": null,
     "widgetInfo": {
      "widgetType": "dropdown",
      "defaultValue": "No",
      "label": null,
      "name": "optimize_tables",
      "options": {
       "widgetType": "dropdown",
       "autoCreated": null,
       "choices": [
        "No",
        "Yes"
       ]
      }
     }
    },
    "stop_streams": {
     "currentValue": "No",
     "nuid": "d70a2190-266e-473c-86a7-84f7bf56b386",
     "typedWidgetInfo": null,
     "widgetInfo": {
      "widgetType": "dropdown",
      "defaultValue": "No",
      "label": null,
      "name": "stop_streams",
      "options": {
       "widgetType": "dropdown",
       "autoCreated": null,
       "choices": [
        "No",
        "Yes"
       ]
      }
     }
    }
   }
  }
 },
 "nbformat": 4,
 "nbformat_minor": 0
}
